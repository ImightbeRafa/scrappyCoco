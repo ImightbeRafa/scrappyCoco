{
 "cells": [
  {
   "cell_type": "code",
   "execution_count": null,
   "metadata": {},
   "outputs": [],
   "source": [
    "from selenium import webdriver\n",
    "from selenium.webdriver.common.by import By\n",
    "from selenium.webdriver.support.ui import WebDriverWait\n",
    "from selenium.webdriver.support import expected_conditions as EC\n",
    "from selenium.webdriver.chrome.options import Options\n",
    "import time"
   ]
  },
  {
   "cell_type": "code",
   "execution_count": null,
   "metadata": {},
   "outputs": [],
   "source": [
    "# Configure Chrome options for headless browsing\n",
    "chrome_options = Options()\n",
    "chrome_options.add_argument(\"--headless\")  # Ensure GUI is off\n",
    "\n",
    "# Assuming you have chromedriver installed\n",
    "driver = webdriver.Chrome(options=chrome_options)\n",
    "\n",
    "\n",
    "driver.get(\"https://www.instagram.com/accounts/login/\")\n",
    "WebDriverWait(driver, 10).until(EC.presence_of_element_located((By.NAME, \"username\"))).send_keys(\"your_username\")\n",
    "driver.find_element(By.NAME, \"password\").send_keys(\"your_password\")\n",
    "driver.find_element(By.XPATH, \"//button/div[text()='Log In']\").click()\n",
    "time.sleep(10)  # Wait for login to complete"
   ]
  },
  {
   "cell_type": "code",
   "execution_count": null,
   "metadata": {},
   "outputs": [],
   "source": [
    "def get_followers(user):\n",
    "    driver.get(f\"https://www.instagram.com/{user}/followers/\")\n",
    "    followers = set()\n",
    "    \n",
    "    # This loop might need adjustment for pagination or scrolling\n",
    "    while True:\n",
    "        try:\n",
    "            follower_elements = WebDriverWait(driver, 10).until(\n",
    "                EC.presence_of_all_elements_located((By.XPATH, \"//a[contains(@class, 'notranslate')]\"))\n",
    "            )\n",
    "            for follower in follower_elements:\n",
    "                followers.add(follower.get_attribute('href').split('/')[-2])\n",
    "            # Scroll down to load more followers\n",
    "            driver.execute_script(\"window.scrollTo(0, document.body.scrollHeight);\")\n",
    "            time.sleep(2)  # Give time for the new content to load\n",
    "        except:\n",
    "            break  # Stop if we can't find more followers or an error occurs\n",
    "\n",
    "    return followers\n",
    "\n",
    "followers = get_followers(\"example_username\")"
   ]
  },
  {
   "cell_type": "code",
   "execution_count": null,
   "metadata": {},
   "outputs": [],
   "source": [
    "\n",
    "\n",
    "emails = []\n",
    "\n",
    "for follower in followers:\n",
    "    driver.get(f\"https://www.instagram.com/{follower}/\")\n",
    "    try:\n",
    "        bio = WebDriverWait(driver, 5).until(EC.presence_of_element_located((By.XPATH, \"//meta[@property='og:description']\"))).get_attribute(\"content\")\n",
    "        if \"@\" in bio:\n",
    "            emails.append(bio.split('@')[1].split()[0])\n",
    "    except:\n",
    "        pass  # If bio or email not found, move to the next follower\n",
    "\n",
    "print(emails)"
   ]
  }
 ],
 "metadata": {
  "language_info": {
   "name": "python"
  }
 },
 "nbformat": 4,
 "nbformat_minor": 2
}
